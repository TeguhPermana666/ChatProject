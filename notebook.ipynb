{
 "cells": [
  {
   "cell_type": "code",
   "execution_count": 5,
   "metadata": {},
   "outputs": [
    {
     "name": "stdout",
     "output_type": "stream",
     "text": [
      "Requirement already satisfied: openai in d:\\pukul6\\chatproject\\env\\lib\\site-packages (1.61.1)\n",
      "Requirement already satisfied: flask in d:\\pukul6\\chatproject\\env\\lib\\site-packages (3.1.0)\n",
      "Requirement already satisfied: anyio<5,>=3.5.0 in d:\\pukul6\\chatproject\\env\\lib\\site-packages (from openai) (4.8.0)\n",
      "Requirement already satisfied: distro<2,>=1.7.0 in d:\\pukul6\\chatproject\\env\\lib\\site-packages (from openai) (1.9.0)\n",
      "Requirement already satisfied: httpx<1,>=0.23.0 in d:\\pukul6\\chatproject\\env\\lib\\site-packages (from openai) (0.28.1)\n",
      "Requirement already satisfied: jiter<1,>=0.4.0 in d:\\pukul6\\chatproject\\env\\lib\\site-packages (from openai) (0.8.2)\n",
      "Requirement already satisfied: pydantic<3,>=1.9.0 in d:\\pukul6\\chatproject\\env\\lib\\site-packages (from openai) (2.10.6)\n",
      "Requirement already satisfied: sniffio in d:\\pukul6\\chatproject\\env\\lib\\site-packages (from openai) (1.3.1)\n",
      "Requirement already satisfied: tqdm>4 in d:\\pukul6\\chatproject\\env\\lib\\site-packages (from openai) (4.67.1)\n",
      "Requirement already satisfied: typing-extensions<5,>=4.11 in d:\\pukul6\\chatproject\\env\\lib\\site-packages (from openai) (4.12.2)\n",
      "Requirement already satisfied: Werkzeug>=3.1 in d:\\pukul6\\chatproject\\env\\lib\\site-packages (from flask) (3.1.3)\n",
      "Requirement already satisfied: Jinja2>=3.1.2 in d:\\pukul6\\chatproject\\env\\lib\\site-packages (from flask) (3.1.5)\n",
      "Requirement already satisfied: itsdangerous>=2.2 in d:\\pukul6\\chatproject\\env\\lib\\site-packages (from flask) (2.2.0)\n",
      "Requirement already satisfied: click>=8.1.3 in d:\\pukul6\\chatproject\\env\\lib\\site-packages (from flask) (8.1.8)\n",
      "Requirement already satisfied: blinker>=1.9 in d:\\pukul6\\chatproject\\env\\lib\\site-packages (from flask) (1.9.0)\n",
      "Requirement already satisfied: idna>=2.8 in d:\\pukul6\\chatproject\\env\\lib\\site-packages (from anyio<5,>=3.5.0->openai) (3.10)\n",
      "Requirement already satisfied: colorama in d:\\pukul6\\chatproject\\env\\lib\\site-packages (from click>=8.1.3->flask) (0.4.6)\n",
      "Requirement already satisfied: certifi in d:\\pukul6\\chatproject\\env\\lib\\site-packages (from httpx<1,>=0.23.0->openai) (2025.1.31)\n",
      "Requirement already satisfied: httpcore==1.* in d:\\pukul6\\chatproject\\env\\lib\\site-packages (from httpx<1,>=0.23.0->openai) (1.0.7)\n",
      "Requirement already satisfied: h11<0.15,>=0.13 in d:\\pukul6\\chatproject\\env\\lib\\site-packages (from httpcore==1.*->httpx<1,>=0.23.0->openai) (0.14.0)\n",
      "Requirement already satisfied: MarkupSafe>=2.0 in d:\\pukul6\\chatproject\\env\\lib\\site-packages (from Jinja2>=3.1.2->flask) (3.0.2)\n",
      "Requirement already satisfied: annotated-types>=0.6.0 in d:\\pukul6\\chatproject\\env\\lib\\site-packages (from pydantic<3,>=1.9.0->openai) (0.7.0)\n",
      "Requirement already satisfied: pydantic-core==2.27.2 in d:\\pukul6\\chatproject\\env\\lib\\site-packages (from pydantic<3,>=1.9.0->openai) (2.27.2)\n"
     ]
    }
   ],
   "source": [
    "# !pip install openai flask"
   ]
  },
  {
   "cell_type": "code",
   "execution_count": 16,
   "metadata": {},
   "outputs": [],
   "source": [
    "import requests\n",
    "import json\n"
   ]
  },
  {
   "cell_type": "code",
   "execution_count": 29,
   "metadata": {},
   "outputs": [],
   "source": [
    "# # Mengirim pesan chat pertama untuk user1\n",
    "# response = requests.post('http://127.0.0.1:5000/chat', \n",
    "#                          headers={'Content-Type': 'application/json'},\n",
    "#                          data=json.dumps({'user_id': 'user1', 'message': 'Hello!'}))\n",
    "# print(response.json())\n",
    "\n",
    "# # Mengirim pesan chat kedua untuk user1\n",
    "# response = requests.post('http://127.0.0.1:5000/chat', \n",
    "#                          headers={'Content-Type': 'application/json'},\n",
    "#                          data=json.dumps({'user_id': 'user1', 'message': 'How are you?'}))\n",
    "# print(response.json())\n",
    "\n",
    "# # Mengirim pesan chat ketiga untuk user1\n",
    "# response = requests.post('http://127.0.0.1:5000/chat', \n",
    "#                          headers={'Content-Type': 'application/json'},\n",
    "#                          data=json.dumps({'user_id': 'user1', 'message': 'What is your name?'}))\n",
    "# print(response.json())\n",
    "\n",
    "# # Mengirim pesan chat keempat untuk user1\n",
    "# response = requests.post('http://127.0.0.1:5000/chat', \n",
    "#                          headers={'Content-Type': 'application/json'},\n",
    "#                          data=json.dumps({'user_id': 'user1', 'message': 'Tell me a joke.'}))\n",
    "# print(response.json())\n",
    "\n",
    "# # Mengirim pesan chat kelima untuk user1\n",
    "# response = requests.post('http://127.0.0.1:5000/chat', \n",
    "#                          headers={'Content-Type': 'application/json'},\n",
    "#                          data=json.dumps({'user_id': 'user1', 'message': 'Goodbye!'}))\n",
    "# print(response.json())\n"
   ]
  },
  {
   "cell_type": "code",
   "execution_count": 30,
   "metadata": {},
   "outputs": [],
   "source": [
    "# # Mengirim pesan chat pertama untuk user2\n",
    "# response = requests.post('http://127.0.0.1:5000/chat', \n",
    "#                          headers={'Content-Type': 'application/json'},\n",
    "#                          data=json.dumps({'user_id': 'user2', 'message': 'Hi there!'}))\n",
    "# print(response.json())\n",
    "\n",
    "# # Mengirim pesan chat kedua untuk user2\n",
    "# response = requests.post('http://127.0.0.1:5000/chat', \n",
    "#                          headers={'Content-Type': 'application/json'},\n",
    "#                          data=json.dumps({'user_id': 'user2', 'message': 'What can you do?'}))\n",
    "# print(response.json())\n",
    "\n",
    "# # Mengirim pesan chat ketiga untuk user2\n",
    "# response = requests.post('http://127.0.0.1:5000/chat', \n",
    "#                          headers={'Content-Type': 'application/json'},\n",
    "#                          data=json.dumps({'user_id': 'user2', 'message': 'Do you have any hobbies?'}))\n",
    "# print(response.json())\n",
    "\n",
    "# # Mengirim pesan chat keempat untuk user2\n",
    "# response = requests.post('http://127.0.0.1:5000/chat', \n",
    "#                          headers={'Content-Type': 'application/json'},\n",
    "#                          data=json.dumps({'user_id': 'user2', 'message': 'What’s the weather like today?'}))\n",
    "# print(response.json())\n",
    "\n",
    "# # Mengirim pesan chat kelima untuk user2\n",
    "# response = requests.post('http://127.0.0.1:5000/chat', \n",
    "#                          headers={'Content-Type': 'application/json'},\n",
    "#                          data=json.dumps({'user_id': 'user2', 'message': 'See you later!'}))\n",
    "# print(response.json())\n"
   ]
  },
  {
   "cell_type": "code",
   "execution_count": 46,
   "metadata": {},
   "outputs": [],
   "source": [
    "# # Mengambil ringkasan riwayat chat untuk user1\n",
    "# response = requests.post('http://127.0.0.1:5000/summarize', \n",
    "#                          headers={'Content-Type': 'application/json'},\n",
    "#                          data=json.dumps({'user_id': 'user1'}))\n",
    "\n",
    "# # Mengambil ringkasan riwayat chat untuk user2\n",
    "# response = requests.post('http://127.0.0.1:5000/summarize', \n",
    "#                          headers={'Content-Type': 'application/json'},\n",
    "#                          data=json.dumps({'user_id': 'user2'}))\n",
    "\n",
    "# # Mengambil ringkasan riwayat chat untuk user3\n",
    "# response = requests.post('http://127.0.0.1:5000/summarize', \n",
    "#                          headers={'Content-Type': 'application/json'},\n",
    "#                          data=json.dumps({'user_id': 'user3'}))"
   ]
  },
  {
   "cell_type": "code",
   "execution_count": 52,
   "metadata": {},
   "outputs": [],
   "source": [
    "import requests\n",
    "import json\n",
    "\n",
    "# Fungsi untuk mengirim pesan chat dan menyimpan respons\n",
    "def send_chat_messages(user_id, messages):\n",
    "    responses = []\n",
    "    for msg in messages:\n",
    "        response = requests.post('http://127.0.0.1:5000/chat', \n",
    "                                 headers={'Content-Type': 'application/json'},\n",
    "                                 data=json.dumps({'user_id': user_id, 'message': msg}))\n",
    "        try:\n",
    "            response_data = response.json()\n",
    "            responses.append({\"user\": msg, \"client\": response_data['reply']})\n",
    "        except json.JSONDecodeError:\n",
    "            responses.append({\"user\": msg, \"client\": \"Failed to parse JSON response\"})\n",
    "    return responses\n",
    "\n",
    "# Mengirim beberapa pesan chat untuk user1 dan menyimpan respons\n",
    "user1_messages = ['Hello!', 'How are you?', 'What is your name?', 'Tell me a joke.', 'Goodbye!']\n",
    "user1_responses = send_chat_messages('user1', user1_messages)\n",
    "\n",
    "# Mengirim beberapa pesan chat untuk user2 dan menyimpan respons\n",
    "user2_messages = ['Hi there!', 'What can you do?', 'Do you have any hobbies?', 'What’s the weather like today?', 'See you later!']\n",
    "user2_responses = send_chat_messages('user2', user2_messages)\n",
    "\n",
    "# Mengirim beberapa pesan chat untuk user3 dan menyimpan respons\n",
    "user3_messages = ['How are you?', 'What is AI?', 'Can you help me with a project?', 'Tell me a fun fact.', 'Goodbye!']\n",
    "user3_responses = send_chat_messages('user3', user3_messages)\n"
   ]
  },
  {
   "cell_type": "code",
   "execution_count": 55,
   "metadata": {},
   "outputs": [
    {
     "ename": "JSONDecodeError",
     "evalue": "Expecting value: line 1 column 1 (char 0)",
     "output_type": "error",
     "traceback": [
      "\u001b[1;31m---------------------------------------------------------------------------\u001b[0m",
      "\u001b[1;31mJSONDecodeError\u001b[0m                           Traceback (most recent call last)",
      "File \u001b[1;32md:\\Pukul6\\ChatProject\\env\\Lib\\site-packages\\requests\\models.py:974\u001b[0m, in \u001b[0;36mResponse.json\u001b[1;34m(self, **kwargs)\u001b[0m\n\u001b[0;32m    973\u001b[0m \u001b[39mtry\u001b[39;00m:\n\u001b[1;32m--> 974\u001b[0m     \u001b[39mreturn\u001b[39;00m complexjson\u001b[39m.\u001b[39;49mloads(\u001b[39mself\u001b[39;49m\u001b[39m.\u001b[39;49mtext, \u001b[39m*\u001b[39;49m\u001b[39m*\u001b[39;49mkwargs)\n\u001b[0;32m    975\u001b[0m \u001b[39mexcept\u001b[39;00m JSONDecodeError \u001b[39mas\u001b[39;00m e:\n\u001b[0;32m    976\u001b[0m     \u001b[39m# Catch JSON-related errors and raise as requests.JSONDecodeError\u001b[39;00m\n\u001b[0;32m    977\u001b[0m     \u001b[39m# This aliases json.JSONDecodeError and simplejson.JSONDecodeError\u001b[39;00m\n",
      "File \u001b[1;32mC:\\Program Files\\WindowsApps\\PythonSoftwareFoundation.Python.3.12_3.12.2544.0_x64__qbz5n2kfra8p0\\Lib\\json\\__init__.py:346\u001b[0m, in \u001b[0;36mloads\u001b[1;34m(s, cls, object_hook, parse_float, parse_int, parse_constant, object_pairs_hook, **kw)\u001b[0m\n\u001b[0;32m    343\u001b[0m \u001b[39mif\u001b[39;00m (\u001b[39mcls\u001b[39m \u001b[39mis\u001b[39;00m \u001b[39mNone\u001b[39;00m \u001b[39mand\u001b[39;00m object_hook \u001b[39mis\u001b[39;00m \u001b[39mNone\u001b[39;00m \u001b[39mand\u001b[39;00m\n\u001b[0;32m    344\u001b[0m         parse_int \u001b[39mis\u001b[39;00m \u001b[39mNone\u001b[39;00m \u001b[39mand\u001b[39;00m parse_float \u001b[39mis\u001b[39;00m \u001b[39mNone\u001b[39;00m \u001b[39mand\u001b[39;00m\n\u001b[0;32m    345\u001b[0m         parse_constant \u001b[39mis\u001b[39;00m \u001b[39mNone\u001b[39;00m \u001b[39mand\u001b[39;00m object_pairs_hook \u001b[39mis\u001b[39;00m \u001b[39mNone\u001b[39;00m \u001b[39mand\u001b[39;00m \u001b[39mnot\u001b[39;00m kw):\n\u001b[1;32m--> 346\u001b[0m     \u001b[39mreturn\u001b[39;00m _default_decoder\u001b[39m.\u001b[39;49mdecode(s)\n\u001b[0;32m    347\u001b[0m \u001b[39mif\u001b[39;00m \u001b[39mcls\u001b[39m \u001b[39mis\u001b[39;00m \u001b[39mNone\u001b[39;00m:\n",
      "File \u001b[1;32mC:\\Program Files\\WindowsApps\\PythonSoftwareFoundation.Python.3.12_3.12.2544.0_x64__qbz5n2kfra8p0\\Lib\\json\\decoder.py:338\u001b[0m, in \u001b[0;36mJSONDecoder.decode\u001b[1;34m(self, s, _w)\u001b[0m\n\u001b[0;32m    334\u001b[0m \u001b[39m\u001b[39m\u001b[39m\"\"\"Return the Python representation of ``s`` (a ``str`` instance\u001b[39;00m\n\u001b[0;32m    335\u001b[0m \u001b[39mcontaining a JSON document).\u001b[39;00m\n\u001b[0;32m    336\u001b[0m \n\u001b[0;32m    337\u001b[0m \u001b[39m\"\"\"\u001b[39;00m\n\u001b[1;32m--> 338\u001b[0m obj, end \u001b[39m=\u001b[39m \u001b[39mself\u001b[39;49m\u001b[39m.\u001b[39;49mraw_decode(s, idx\u001b[39m=\u001b[39;49m_w(s, \u001b[39m0\u001b[39;49m)\u001b[39m.\u001b[39;49mend())\n\u001b[0;32m    339\u001b[0m end \u001b[39m=\u001b[39m _w(s, end)\u001b[39m.\u001b[39mend()\n",
      "File \u001b[1;32mC:\\Program Files\\WindowsApps\\PythonSoftwareFoundation.Python.3.12_3.12.2544.0_x64__qbz5n2kfra8p0\\Lib\\json\\decoder.py:356\u001b[0m, in \u001b[0;36mJSONDecoder.raw_decode\u001b[1;34m(self, s, idx)\u001b[0m\n\u001b[0;32m    355\u001b[0m \u001b[39mexcept\u001b[39;00m \u001b[39mStopIteration\u001b[39;00m \u001b[39mas\u001b[39;00m err:\n\u001b[1;32m--> 356\u001b[0m     \u001b[39mraise\u001b[39;00m JSONDecodeError(\u001b[39m\"\u001b[39m\u001b[39mExpecting value\u001b[39m\u001b[39m\"\u001b[39m, s, err\u001b[39m.\u001b[39mvalue) \u001b[39mfrom\u001b[39;00m\u001b[39m \u001b[39m\u001b[39mNone\u001b[39;00m\n\u001b[0;32m    357\u001b[0m \u001b[39mreturn\u001b[39;00m obj, end\n",
      "\u001b[1;31mJSONDecodeError\u001b[0m: Expecting value: line 1 column 1 (char 0)",
      "\nDuring handling of the above exception, another exception occurred:\n",
      "\u001b[1;31mJSONDecodeError\u001b[0m                           Traceback (most recent call last)",
      "Cell \u001b[1;32mIn[55], line 9\u001b[0m\n\u001b[0;32m      6\u001b[0m     \u001b[38;5;28;01mreturn\u001b[39;00m response\u001b[38;5;241m.\u001b[39mjson()\n\u001b[0;32m      8\u001b[0m \u001b[38;5;66;03m# Mengambil ringkasan riwayat chat untuk setiap pengguna\u001b[39;00m\n\u001b[1;32m----> 9\u001b[0m user1_summary \u001b[38;5;241m=\u001b[39m \u001b[43mget_chat_summary\u001b[49m\u001b[43m(\u001b[49m\u001b[38;5;124;43m'\u001b[39;49m\u001b[38;5;124;43muser1\u001b[39;49m\u001b[38;5;124;43m'\u001b[39;49m\u001b[43m)\u001b[49m\n\u001b[0;32m     10\u001b[0m user2_summary \u001b[38;5;241m=\u001b[39m get_chat_summary(\u001b[38;5;124m'\u001b[39m\u001b[38;5;124muser2\u001b[39m\u001b[38;5;124m'\u001b[39m)\n\u001b[0;32m     11\u001b[0m user3_summary \u001b[38;5;241m=\u001b[39m get_chat_summary(\u001b[38;5;124m'\u001b[39m\u001b[38;5;124muser3\u001b[39m\u001b[38;5;124m'\u001b[39m)\n",
      "Cell \u001b[1;32mIn[55], line 6\u001b[0m, in \u001b[0;36mget_chat_summary\u001b[1;34m(user_id)\u001b[0m\n\u001b[0;32m      2\u001b[0m \u001b[38;5;28;01mdef\u001b[39;00m\u001b[38;5;250m \u001b[39m\u001b[38;5;21mget_chat_summary\u001b[39m(user_id):\n\u001b[0;32m      3\u001b[0m     response \u001b[38;5;241m=\u001b[39m requests\u001b[38;5;241m.\u001b[39mpost(\u001b[38;5;124m'\u001b[39m\u001b[38;5;124mhttp://127.0.0.1:5000/summarize\u001b[39m\u001b[38;5;124m'\u001b[39m, \n\u001b[0;32m      4\u001b[0m                              headers\u001b[38;5;241m=\u001b[39m{\u001b[38;5;124m'\u001b[39m\u001b[38;5;124mContent-Type\u001b[39m\u001b[38;5;124m'\u001b[39m: \u001b[38;5;124m'\u001b[39m\u001b[38;5;124mapplication/json\u001b[39m\u001b[38;5;124m'\u001b[39m},\n\u001b[0;32m      5\u001b[0m                              data\u001b[38;5;241m=\u001b[39mjson\u001b[38;5;241m.\u001b[39mdumps({\u001b[38;5;124m'\u001b[39m\u001b[38;5;124muser_id\u001b[39m\u001b[38;5;124m'\u001b[39m: user_id}))\n\u001b[1;32m----> 6\u001b[0m     \u001b[38;5;28;01mreturn\u001b[39;00m \u001b[43mresponse\u001b[49m\u001b[38;5;241;43m.\u001b[39;49m\u001b[43mjson\u001b[49m\u001b[43m(\u001b[49m\u001b[43m)\u001b[49m\n",
      "File \u001b[1;32md:\\Pukul6\\ChatProject\\env\\Lib\\site-packages\\requests\\models.py:978\u001b[0m, in \u001b[0;36mResponse.json\u001b[1;34m(self, **kwargs)\u001b[0m\n\u001b[0;32m    974\u001b[0m     \u001b[39mreturn\u001b[39;00m complexjson\u001b[39m.\u001b[39mloads(\u001b[39mself\u001b[39m\u001b[39m.\u001b[39mtext, \u001b[39m*\u001b[39m\u001b[39m*\u001b[39mkwargs)\n\u001b[0;32m    975\u001b[0m \u001b[39mexcept\u001b[39;00m JSONDecodeError \u001b[39mas\u001b[39;00m e:\n\u001b[0;32m    976\u001b[0m     \u001b[39m# Catch JSON-related errors and raise as requests.JSONDecodeError\u001b[39;00m\n\u001b[0;32m    977\u001b[0m     \u001b[39m# This aliases json.JSONDecodeError and simplejson.JSONDecodeError\u001b[39;00m\n\u001b[1;32m--> 978\u001b[0m     \u001b[39mraise\u001b[39;00m RequestsJSONDecodeError(e\u001b[39m.\u001b[39mmsg, e\u001b[39m.\u001b[39mdoc, e\u001b[39m.\u001b[39mpos)\n",
      "\u001b[1;31mJSONDecodeError\u001b[0m: Expecting value: line 1 column 1 (char 0)"
     ]
    }
   ],
   "source": [
    "# Fungsi untuk mengambil ringkasan riwayat chat\n",
    "def get_chat_summary(user_id):\n",
    "    response = requests.post('http://127.0.0.1:5000/summarize', \n",
    "                             headers={'Content-Type': 'application/json'},\n",
    "                             data=json.dumps({'user_id': user_id}))\n",
    "    return response.json()\n",
    "\n",
    "# Mengambil ringkasan riwayat chat untuk setiap pengguna\n",
    "user1_summary = get_chat_summary('user1')\n",
    "user2_summary = get_chat_summary('user2')\n",
    "user3_summary = get_chat_summary('user3')\n"
   ]
  },
  {
   "cell_type": "code",
   "execution_count": 56,
   "metadata": {},
   "outputs": [
    {
     "name": "stdout",
     "output_type": "stream",
     "text": [
      "Chat history for user1:\n",
      "\n",
      "\n",
      "Summary for user1:\n",
      "Failed to parse JSON response\n"
     ]
    }
   ],
   "source": [
    "# Menampilkan riwayat chat dan ringkasan dalam format rapi untuk user1\n",
    "print(\"Chat history for user1:\")\n",
    "print(user1_summary['chat_history'])\n",
    "print(\"\\nSummary for user1:\")\n",
    "print(user1_summary['summary'])"
   ]
  },
  {
   "cell_type": "code",
   "execution_count": 57,
   "metadata": {},
   "outputs": [
    {
     "name": "stdout",
     "output_type": "stream",
     "text": [
      "Chat history for user2:\n",
      "\n",
      "Summary for user2:\n",
      "Failed to parse JSON response\n"
     ]
    }
   ],
   "source": [
    "# Menampilkan riwayat chat dan ringkasan untuk user2\n",
    "print(f\"Chat history for user2:\\n{user2_summary['chat_history']}\")\n",
    "print(f\"Summary for user2:\\n{user2_summary['summary']}\")\n",
    "\n"
   ]
  },
  {
   "cell_type": "code",
   "execution_count": 38,
   "metadata": {},
   "outputs": [
    {
     "name": "stdout",
     "output_type": "stream",
     "text": [
      "Chat history for user3:\n",
      "user: How are you?\n",
      "I'm here and ready to help you! How can I assist you today?\n",
      "user: What is AI?\n",
      "AI stands for artificial intelligence. It refers to the development of computer systems that can perform tasks that typically require human intelligence, such as visual perception, speech recognition, decision-making, and language translation. AI technologies use algorithms to process data, learn from patterns and make predictions or decisions without explicit programming.\n",
      "user: Can you help me with a project?\n",
      "Of course! I'd be happy to help. What specifically do you need assistance with for your project?\n",
      "user: Tell me a fun fact.\n",
      "Did you know that a group of flamingos is called a \"flamboyance\"?\n",
      "user: Goodbye!\n",
      "Goodbye! If you have any more questions in the future, feel free to ask. Have a great day!\n",
      "user: How are you?\n",
      "I'm just a computer program, so I don't have feelings, but I'm here and ready to assist you with anything you need! How can I help you today?\n",
      "user: What is AI?\n",
      "AI, or artificial intelligence, refers to the simulation of human intelligence processes by computer systems. These processes include learning, reasoning, problem-solving, perception, and language understanding. AI technologies are used to develop systems that can perform tasks that typically require human intelligence, such as visual perception, speech recognition, decision-making, and language translation.\n",
      "user: Can you help me with a project?\n",
      "Of course! I'd be happy to help. Please let me know what you need assistance with for your project.\n",
      "user: Tell me a fun fact.\n",
      "Sure! Here's a fun fact: A group of flamingos is called a \"flamboyance.\"\n",
      "user: Goodbye!\n",
      "Goodbye! If you have any more questions in the future, feel free to ask. Have a great day!\n",
      "user: How are you?\n",
      "client: I'm just a computer program, so I don't have feelings, but I'm here and ready to help you with anything you need. How can I assist you today?\n",
      "user: What is AI?\n",
      "client: AI stands for artificial intelligence, which refers to the simulation of human intelligence processes by machines, specifically computer systems. AI involves programming machines to perform tasks that would typically require human intelligence, such as problem-solving, learning, natural language processing, and decision-making. AI technologies can include machine learning, deep learning, neural networks, and natural language processing, among others.\n",
      "user: Can you help me with a project?\n",
      "client: Of course! I'd be happy to help. What do you need assistance with?\n",
      "user: Tell me a fun fact.\n",
      "client: Sure! Here's a fun fact: Honey never spoils. Archaeologists have found pots of honey in ancient Egyptian tombs that are over 3000 years old and still perfectly edible. Honey's unique chemical makeup and low water content create an environment that prevents bacteria and microorganisms from growing, making it one of the few foods that never spoils.\n",
      "user: Goodbye!\n",
      "client: Goodbye! If you have any more questions in the future, feel free to ask. Have a great day!\n",
      "user: How are you?\n",
      "client: I'm just a computer program, so I don't have feelings, but I'm here and ready to help you! How can I assist you today?\n",
      "user: What is AI?\n",
      "client: AI stands for artificial intelligence. It is the simulation of human intelligence processes by machines, especially computer systems. AI can perform tasks such as learning, reasoning, problem-solving, perception, and language translation. It is used in various applications such as virtual assistants, autonomous vehicles, medical diagnosis, and more.\n",
      "user: Can you help me with a project?\n",
      "client: Of course! I'd be happy to help with your project. What specifically do you need assistance with?\n",
      "user: Tell me a fun fact.\n",
      "client: Sure! Here's a fun fact: A group of flamingos is called a \"flamboyance.\"\n",
      "user: Goodbye!\n",
      "client: Goodbye! If you have any more questions in the future, feel free to ask. Have a great day!\n",
      "user: How are you?\n",
      "client: I'm just a virtual assistant, so I don't have feelings, but I'm here and ready to help you. How can I assist you today?\n",
      "user: What is AI?\n",
      "client: AI stands for artificial intelligence. It refers to the simulation of human intelligence in machines that are programmed to think and mimic human actions. AI systems can perform tasks that typically require human intelligence, such as visual perception, speech recognition, decision-making, and language translation.\n",
      "user: Can you help me with a project?\n",
      "client: Of course! I'd be happy to help. What do you need assistance with for your project?\n",
      "user: Tell me a fun fact.\n",
      "client: Sure! Here's a fun fact: Did you know that honey never spoils? Archaeologists have found pots of honey in ancient Egyptian tombs that are over 3000 years old and still perfectly good to eat. Honey's high sugar content and acidic properties create an environment that bacteria and microorganisms cannot survive in, making it an everlasting food source when stored properly.\n",
      "user: Goodbye!\n",
      "client: Goodbye! If you have any more questions in the future, feel free to ask. Have a great day!\n",
      "user: How are you?\n",
      "client: I'm just a computer program, so I don't have feelings or emotions, but I'm here and ready to help you with anything you need. How can I assist you today?\n",
      "user: What is AI?\n",
      "client: AI, or artificial intelligence, refers to the development of computer systems that can perform tasks that typically require human intelligence, such as visual perception, speech recognition, decision-making, and language translation. AI involves the use of algorithms and machine learning techniques to enable machines to learn from data, adapt to new inputs, and perform tasks without explicit programming. The ultimate goal of AI is to create machines that can mimic human cognitive abilities and perform complex cognitive tasks.\n",
      "user: Can you help me with a project?\n",
      "client: Of course! I'd be happy to help. What do you need assistance with for your project?\n",
      "user: Tell me a fun fact.\n",
      "client: Here's a fun fact: Bananas are berries, while strawberries are not berries!\n",
      "user: Goodbye!\n",
      "client: Goodbye! If you have any more questions in the future, feel free to reach out. Have a great day!\n",
      "\n",
      "Summary for user3:\n",
      "The conversation was about artificial intelligence (AI), with the user asking questions related to AI, seeking help with a project, requesting a fun fact, and saying goodbye. The assistant provided information about AI, offered assistance with the project, shared a fun fact about flamingos or honey, and bid farewell in a friendly manner.\n"
     ]
    }
   ],
   "source": [
    "# Menampilkan riwayat chat dan ringkasan untuk user3\n",
    "print(f\"Chat history for user3:\\n{user3_summary['chat_history']}\")\n",
    "print(f\"Summary for user3:\\n{user3_summary['summary']}\")"
   ]
  }
 ],
 "metadata": {
  "kernelspec": {
   "display_name": "Python 3.12.9 ('env': venv)",
   "language": "python",
   "name": "python3"
  },
  "language_info": {
   "codemirror_mode": {
    "name": "ipython",
    "version": 3
   },
   "file_extension": ".py",
   "mimetype": "text/x-python",
   "name": "python",
   "nbconvert_exporter": "python",
   "pygments_lexer": "ipython3",
   "version": "3.12.9"
  },
  "orig_nbformat": 4,
  "vscode": {
   "interpreter": {
    "hash": "b92ff4f1c28a6d71fad060aad53f69ad5c83e917bf15163f1ff6540b51c114d7"
   }
  }
 },
 "nbformat": 4,
 "nbformat_minor": 2
}
